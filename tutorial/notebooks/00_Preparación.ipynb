{
 "cells": [
  {
   "cell_type": "markdown",
   "metadata": {},
   "source": [
    "# Preparación de datos:\n",
    "\n",
    "#### Meta\n",
    "Este `notebook` fue creado para extraer los datos de nuestros archivos `.zip` en nuestro directorio `datos/en_bruto`.\n",
    "\n",
    "#### Contexto\n",
    "La estructura de nuestro proyecto es la siguiente:"
   ]
  },
  {
   "cell_type": "code",
   "execution_count": 1,
   "metadata": {},
   "outputs": [],
   "source": [
    "from pathlib import Path\n",
    "from funciones_utiles import arbol "
   ]
  },
  {
   "cell_type": "markdown",
   "metadata": {},
   "source": [
    "###### nota: la función `arbol` fue adaptada de el [tutorial](https://realpython.com/python-pathlib/#display-a-directory-tree) de RealPython sobre el módulo `pathlib` incluida por defecto en tu distribución de `python`"
   ]
  },
  {
   "cell_type": "code",
   "execution_count": 2,
   "metadata": {},
   "outputs": [
    {
     "name": "stdout",
     "output_type": "stream",
     "text": [
      "+ ..\n",
      "    + datos\n",
      "        + en_bruto\n",
      "            + hidrografia.zip\n",
      "            + mexstates.zip\n",
      "        + finales\n",
      "        + interinos\n",
      "    + docs\n",
      "    + figuras\n",
      "        + finales\n",
      "        + interinas\n",
      "    + notebooks\n",
      "        + 00_Preparación.ipynb\n",
      "        + 01_Visualización.ipynb\n",
      "        + extraccion_de_datos.py\n",
      "        + funciones_utiles.py\n"
     ]
    }
   ],
   "source": [
    "# este notebook se encuentra dentro de la carpeta \"notebooks\" así que tenemos que \"subir\" un nivel más, por eso utilizamos \"..\"\n",
    "directorio_principal = Path(\"..\") \n",
    "\n",
    "arbol(directorio_principal)"
   ]
  },
  {
   "cell_type": "markdown",
   "metadata": {},
   "source": [
    "***\n",
    "Tenemos dos archivos con nuestros datos geográficos:\n",
    "* `hidrografia.zip`: Contiene información hidrográfica de México. \n",
    "  - Fuente: [Instituto Nacional de Estadística y Geografía - INEGI](http://www.beta.inegi.org.mx/app/mapas/)\n",
    "* `mexstates.zip`: Contiene los polígonos de los 32 estados de México. \n",
    "  - Fuente: [ArcGIS](https://www.arcgis.com/home/item.html?id=ac9041c51b5c49c683fbfec61dc03ba8)"
   ]
  },
  {
   "cell_type": "markdown",
   "metadata": {},
   "source": [
    "El primer paso es descomprimir nuestros archivos:"
   ]
  },
  {
   "cell_type": "code",
   "execution_count": 4,
   "metadata": {},
   "outputs": [],
   "source": [
    "from zipfile import ZipFile"
   ]
  },
  {
   "cell_type": "code",
   "execution_count": 5,
   "metadata": {},
   "outputs": [],
   "source": [
    "ruta_datos_en_bruto = Path(\"../datos/en_bruto/\")\n",
    "ruta_datos_interinos = Path(\"../datos/interinos/\")"
   ]
  },
  {
   "cell_type": "code",
   "execution_count": 6,
   "metadata": {},
   "outputs": [
    {
     "name": "stdout",
     "output_type": "stream",
     "text": [
      "Extrayendo archivo hidrografia.zip\n",
      "Contenido extraído a: ..\\datos\\interinos\\hidrografia\n",
      "Extrayendo archivo mexstates.zip\n",
      "Contenido extraído a: ..\\datos\\interinos\\mexstates\n"
     ]
    }
   ],
   "source": [
    "for archivo_zip in ruta_datos_en_bruto.glob(\"*.zip\"):\n",
    "    archivo = ZipFile(archivo_zip)\n",
    "    print(f\"Extrayendo archivo {archivo_zip.name}\")\n",
    "    archivo_interino_con_ruta = (ruta_datos_interinos / archivo_zip.stem)\n",
    "    archivo.extractall(archivo_interino_con_ruta)\n",
    "    print(f\"Contenido extraído a: {archivo_interino_con_ruta}\")"
   ]
  },
  {
   "cell_type": "markdown",
   "metadata": {},
   "source": [
    "Para aquellas personas no familiarizadas con el módulo `pathlib` (no se preocupen, no es un módulo muy común): En `pathlib` podemos concatenar rutas (o `Paths` como se les conoce en inglés) utilizando el caracter `/`.\n",
    "\n",
    "###### Nota: Si te interesa aprender más sobre el módulo `pathlib` te recomendamos este blog [*\"Pathlib: Rutas orientadas a objetos\"*](https://python-para-impacientes.blogspot.com/2018/10/pathlib-rutas-orientadas-objetos.html) en python-para-impacientes."
   ]
  },
  {
   "cell_type": "markdown",
   "metadata": {},
   "source": [
    "***\n",
    "Nótese que ya que hemos obtenido los datos de dos fuentes diferentes los directorios de archivos están estructurados de manera diferente:"
   ]
  },
  {
   "cell_type": "code",
   "execution_count": 7,
   "metadata": {},
   "outputs": [
    {
     "name": "stdout",
     "output_type": "stream",
     "text": [
      "+ ..\\datos\\interinos\n",
      "    + hidrografia\n",
      "        + conjunto_de_datos\n",
      "            + red_hidrografica_250k.dbf\n",
      "            + red_hidrografica_250k.prj\n",
      "            + red_hidrografica_250k.sbn\n",
      "            + red_hidrografica_250k.sbx\n",
      "            + red_hidrografica_250k.shp\n",
      "            + red_hidrografica_250k.shp.xml\n",
      "            + red_hidrografica_250k.shx\n",
      "        + metadato\n",
      "            + Red_Hidrografica_Digital.html\n",
      "            + Red_Hidrografica_Digital.sgml\n",
      "            + Red_Hidrografica_Digital.txt\n",
      "            + Red_Hidrografica_Digital.xml\n",
      "            + ~$d_Hidrografica_Digital.txt\n",
      "    + mexstates\n",
      "        + mexstates.dbf\n",
      "        + mexstates.prj\n",
      "        + mexstates.sbn\n",
      "        + mexstates.sbx\n",
      "        + mexstates.shp\n",
      "        + mexstates.shp.xml\n",
      "        + mexstates.shx\n"
     ]
    }
   ],
   "source": [
    "arbol(ruta_datos_interinos)"
   ]
  },
  {
   "cell_type": "markdown",
   "metadata": {},
   "source": [
    "***\n",
    "Ya que hemos extraído nuestros datos podemos empezar a trabajar en nuestra visualización con `geopandas` y `altair`\n",
    "\n",
    "[Notebook: 01 Visualización](01_Visualización.ipynb)"
   ]
  }
 ],
 "metadata": {
  "kernelspec": {
   "display_name": "Python 3",
   "language": "python",
   "name": "python3"
  },
  "language_info": {
   "codemirror_mode": {
    "name": "ipython",
    "version": 3
   },
   "file_extension": ".py",
   "mimetype": "text/x-python",
   "name": "python",
   "nbconvert_exporter": "python",
   "pygments_lexer": "ipython3",
   "version": "3.7.1"
  }
 },
 "nbformat": 4,
 "nbformat_minor": 2
}
